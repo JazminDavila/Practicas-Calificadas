{
  "nbformat": 4,
  "nbformat_minor": 0,
  "metadata": {
    "colab": {
      "provenance": [],
      "include_colab_link": true
    },
    "kernelspec": {
      "name": "python3",
      "display_name": "Python 3"
    },
    "language_info": {
      "name": "python"
    },
    "widgets": {
      "application/vnd.jupyter.widget-state+json": {
        "d4691835f4474884829213796343340f": {
          "model_module": "faerun-notebook",
          "model_name": "SmilesDrawerModel",
          "model_module_version": "^0.1.5",
          "state": {
            "_dom_classes": [],
            "_model_module": "faerun-notebook",
            "_model_module_version": "^0.1.5",
            "_model_name": "SmilesDrawerModel",
            "_view_count": null,
            "_view_module": "faerun-notebook",
            "_view_module_version": "^0.1.5",
            "_view_name": "SmilesDrawerView",
            "background": "#1e1e1e",
            "border": true,
            "layout": "IPY_MODEL_35b7ce94b6e84d4c985918e50984dcd7",
            "options": {
              "scale": 1.25
            },
            "output": "svg",
            "theme": "dark",
            "value": [
              [
                "Rxn",
                "C(C1C(C(C(C(O1)O)O)O)O)O.O=O>>C(=O)=O.O"
              ]
            ]
          }
        },
        "35b7ce94b6e84d4c985918e50984dcd7": {
          "model_module": "@jupyter-widgets/base",
          "model_name": "LayoutModel",
          "model_module_version": "1.2.0",
          "state": {
            "_model_module": "@jupyter-widgets/base",
            "_model_module_version": "1.2.0",
            "_model_name": "LayoutModel",
            "_view_count": null,
            "_view_module": "@jupyter-widgets/base",
            "_view_module_version": "1.2.0",
            "_view_name": "LayoutView",
            "align_content": null,
            "align_items": null,
            "align_self": null,
            "border": null,
            "bottom": null,
            "display": null,
            "flex": null,
            "flex_flow": null,
            "grid_area": null,
            "grid_auto_columns": null,
            "grid_auto_flow": null,
            "grid_auto_rows": null,
            "grid_column": null,
            "grid_gap": null,
            "grid_row": null,
            "grid_template_areas": null,
            "grid_template_columns": null,
            "grid_template_rows": null,
            "height": null,
            "justify_content": null,
            "justify_items": null,
            "left": null,
            "margin": null,
            "max_height": null,
            "max_width": null,
            "min_height": null,
            "min_width": null,
            "object_fit": null,
            "object_position": null,
            "order": null,
            "overflow": null,
            "overflow_x": null,
            "overflow_y": null,
            "padding": null,
            "right": null,
            "top": null,
            "visibility": null,
            "width": null
          }
        }
      }
    }
  },
  "cells": [
    {
      "cell_type": "markdown",
      "metadata": {
        "id": "view-in-github",
        "colab_type": "text"
      },
      "source": [
        "<a href=\"https://colab.research.google.com/github/JazminDavila/Practicas-Calificadas/blob/main/PC_1_Quimica_UNMSM.ipynb\" target=\"_parent\"><img src=\"https://colab.research.google.com/assets/colab-badge.svg\" alt=\"Open In Colab\"/></a>"
      ]
    },
    {
      "cell_type": "markdown",
      "source": [
        "$$\\Large \\textit{UNMSM | Química}$$\n",
        "$$\\large \\textbf{PC Nº1 | Materia y clasificación}$$\n",
        "\n",
        "_Profesor: Jesus Alvarado Huayhuaz_"
      ],
      "metadata": {
        "id": "sDJAjbaQOj4x"
      }
    },
    {
      "cell_type": "markdown",
      "source": [
        "Todas las indicaciones para la presentación de la práctica son explicadas en clase y brindadas en el material de enunciado de preguntas en formato PDF."
      ],
      "metadata": {
        "id": "_DsTzWLoP7Fy"
      }
    },
    {
      "cell_type": "markdown",
      "source": [
        "## Pregunta 1: Sobre el ABC de python (4 puntos)"
      ],
      "metadata": {
        "id": "obD7c2igOD6t"
      }
    },
    {
      "cell_type": "markdown",
      "source": [
        "Durante la semana de revisión del material \"ABC de python\", reflexiona sobre qué conceptos aprendiste con claridad y cuáles consideras los más desafiantes. A continuación resuelve los siguiente ejercicios, puedes ayudarte del material en http://bit.ly/3YKICSZ."
      ],
      "metadata": {
        "id": "emt93S7dL7QH"
      }
    },
    {
      "cell_type": "code",
      "source": [
        "# Imprime la versión de python que usas y las palabras reservadas de python para esa versión."
      ],
      "metadata": {
        "id": "6mJvqMN0LTU8"
      },
      "execution_count": null,
      "outputs": []
    },
    {
      "cell_type": "code",
      "source": [
        "print('Python 3.10.12')"
      ],
      "metadata": {
        "colab": {
          "base_uri": "https://localhost:8080/"
        },
        "id": "ziJyQl7SSSen",
        "outputId": "f04fd09a-3b19-4864-f2d0-62e51c1e9709"
      },
      "execution_count": null,
      "outputs": [
        {
          "output_type": "stream",
          "name": "stdout",
          "text": [
            "Python 3.10.12\n"
          ]
        }
      ]
    },
    {
      "cell_type": "code",
      "source": [
        "help(\"keywords\")"
      ],
      "metadata": {
        "colab": {
          "base_uri": "https://localhost:8080/"
        },
        "id": "O0nv-H0rZ1H4",
        "outputId": "41cd4270-41d7-4c9a-da3b-5d000b6e341e"
      },
      "execution_count": null,
      "outputs": [
        {
          "output_type": "stream",
          "name": "stdout",
          "text": [
            "\n",
            "Here is a list of the Python keywords.  Enter any keyword to get more help.\n",
            "\n",
            "False               class               from                or\n",
            "None                continue            global              pass\n",
            "True                def                 if                  raise\n",
            "and                 del                 import              return\n",
            "as                  elif                in                  try\n",
            "assert              else                is                  while\n",
            "async               except              lambda              with\n",
            "await               finally             nonlocal            yield\n",
            "break               for                 not                 \n",
            "\n"
          ]
        }
      ]
    },
    {
      "cell_type": "code",
      "source": [
        "# Crea una matriz de 3x3 e imprime la suma de los elementos en su diagonal (traza)."
      ],
      "metadata": {
        "id": "MxDzGypdLTXh"
      },
      "execution_count": null,
      "outputs": []
    },
    {
      "cell_type": "code",
      "source": [
        "# Crear la matriz de 3x3 (Intente con \"np\" pero no me corria)\n",
        "from random import *\n",
        "x = 3\n",
        "y = 3\n",
        "\n",
        "Matriz= [[randint(0,100) for j in range(y)] for i in range(x)]\n",
        "\n",
        "for f in Matriz:\n",
        "    print(f)"
      ],
      "metadata": {
        "colab": {
          "base_uri": "https://localhost:8080/"
        },
        "id": "nx2eQV-UaI4H",
        "outputId": "10da001f-78c1-4dad-924f-3aba13b0aad6"
      },
      "execution_count": null,
      "outputs": [
        {
          "output_type": "stream",
          "name": "stdout",
          "text": [
            "[83, 57, 53]\n",
            "[92, 2, 34]\n",
            "[55, 76, 80]\n"
          ]
        }
      ]
    },
    {
      "cell_type": "code",
      "source": [
        "# imprimir la diagonal de \"Matriz\"\n",
        "Diagonal = []\n",
        "for indice,numero in enumerate(Matriz):\n",
        "  Diagonal.append(numero[indice])\n",
        "  print(numero[indice])\n"
      ],
      "metadata": {
        "colab": {
          "base_uri": "https://localhost:8080/"
        },
        "id": "8p3eezdmSdlf",
        "outputId": "fafe97a6-c8aa-4209-efec-46c3bd5bfa67"
      },
      "execution_count": null,
      "outputs": [
        {
          "output_type": "stream",
          "name": "stdout",
          "text": [
            "83\n",
            "2\n",
            "80\n"
          ]
        }
      ]
    },
    {
      "cell_type": "code",
      "source": [
        "# Suma de la diagonal de \"Matriz\"\n",
        "sum(Diagonal)"
      ],
      "metadata": {
        "colab": {
          "base_uri": "https://localhost:8080/"
        },
        "id": "mPjeRvIoS70s",
        "outputId": "bf124423-1d38-4c8d-8102-14493b811f5e"
      },
      "execution_count": null,
      "outputs": [
        {
          "output_type": "execute_result",
          "data": {
            "text/plain": [
              "165"
            ]
          },
          "metadata": {},
          "execution_count": 52
        }
      ]
    },
    {
      "cell_type": "code",
      "source": [
        "# Guarda como variable la masa atómica de los elementos C, H y O, e imprime la masa molecular del etanol."
      ],
      "metadata": {
        "id": "MyhNX7JmLTSe"
      },
      "execution_count": null,
      "outputs": []
    },
    {
      "cell_type": "code",
      "source": [
        "# Variables para \"C, H, O\"\n",
        "MA_Carbono= 12.0107\n",
        "MA_Hidrogeno= 1.00794\n",
        "MA_Oxigeno= 15.9994"
      ],
      "metadata": {
        "id": "xgPgfNBNaXFn"
      },
      "execution_count": null,
      "outputs": []
    },
    {
      "cell_type": "code",
      "source": [
        "# Masa molecular del etanol\n",
        "MM_Etanol = MA_Carbono*2 + MA_Hidrogeno*6 + MA_Oxigeno\n",
        "print(f'La masa molecular del etanol es ', MM_Etanol)"
      ],
      "metadata": {
        "colab": {
          "base_uri": "https://localhost:8080/"
        },
        "id": "DuAY0gIlky3Y",
        "outputId": "e1d30181-081d-4358-db2c-f9f6532586f7"
      },
      "execution_count": null,
      "outputs": [
        {
          "output_type": "stream",
          "name": "stdout",
          "text": [
            "La masa molecular del etanol es  46.06844\n"
          ]
        }
      ]
    },
    {
      "cell_type": "code",
      "source": [
        "# Busca la temperatura de fusión en Celsius de 5 metales y guárdalos en una lista. Imprime las temperaturas en Kelvin"
      ],
      "metadata": {
        "id": "NCOnJ0FwgLLc"
      },
      "execution_count": null,
      "outputs": []
    },
    {
      "cell_type": "code",
      "source": [
        "# Temperatura de fusión en celcius de 5 metales\n",
        "Plata = 962\n",
        "Oro = 1064\n",
        "Estaño = 232\n",
        "Hierro = 1538\n",
        "Vanadio = 1910"
      ],
      "metadata": {
        "id": "LSqz1ytUUWvF"
      },
      "execution_count": null,
      "outputs": []
    },
    {
      "cell_type": "code",
      "source": [
        "# Lista de las temperaturas\n",
        "Celcius = [Plata, Oro, Estaño, Hierro, Vanadio]"
      ],
      "metadata": {
        "id": "Kl9-pLAMYT_P"
      },
      "execution_count": null,
      "outputs": []
    },
    {
      "cell_type": "code",
      "source": [
        "# Conversión a Kelvin\n",
        "Kelvin = [x + 273.15 for x in Celcius]"
      ],
      "metadata": {
        "id": "gZui7v5DjFzt"
      },
      "execution_count": null,
      "outputs": []
    },
    {
      "cell_type": "code",
      "source": [
        "# Temperaturas en Kelvin\n",
        "print(Kelvin)"
      ],
      "metadata": {
        "colab": {
          "base_uri": "https://localhost:8080/"
        },
        "id": "DNc_uRZLbSqB",
        "outputId": "74a58ead-d8ff-469d-b1f2-048a59b8c1f5"
      },
      "execution_count": null,
      "outputs": [
        {
          "output_type": "stream",
          "name": "stdout",
          "text": [
            "[1235.15, 1337.15, 505.15, 1811.15, 2183.15]\n"
          ]
        }
      ]
    },
    {
      "cell_type": "markdown",
      "source": [
        "## Pregunta 2: Operaciones (4 puntos)"
      ],
      "metadata": {
        "id": "epzOadagLfPi"
      }
    },
    {
      "cell_type": "markdown",
      "source": [
        "Escribe un programa que lea repetidamente elementos químicos en español hasta que el usuario introduzca “fin”. Una vez se haya introducido “fin”, muestra por pantalla (o sea imprime) el total de elementos ingresados. Si el usuario introduce cualquier otra cosa que no sea un elemento químico, detecta su fallo usando try y except, muestra un mensaje de error y pasa al siguiente elemento."
      ],
      "metadata": {
        "id": "MbAEOGPsjOWZ"
      }
    },
    {
      "cell_type": "code",
      "source": [
        "# Crear un diccionario con los elementos químicos en español\n",
        "elementos_quimicos = [ \"hidrogeno\", \"litio\", \"sodio\", \"potasio\", \"rubidio\", \"cesio\", \"francio\", \"berilio\", \"magnesio\", \"calcio\", \"estroncio\", \"bario\", \"radio\", \"boro\", \"aluminio\", \"galio\", \"indio\", \"talio\", \"nihomio\", \"carbono\", \"silicio\", \"germanio\", \"estaño\", \"plomo\", \"flerovio\", \"nitrogeno\", \"fosforo\", \"arsenico\", \"antimonio\", \"bismuto\", \"moscovio\", \"oxigeno\", \"asufre\", \"selenio\", \"telurio\", \"polonio\", \"livermonio\", \"fluor\", \"cloro\", \"bromo\", \"yodo\", \"astato\", \"teneso\", \"helio\", \"neon\", \"argon\", \"kripton\", \"xenon\", \"radon\", \"oganeson\"]\n",
        "\n",
        "# Inicializo una variable para llevar la cuenta de los elementos ingresados\n",
        "total_elementos = 0\n",
        "\n",
        "# Lista de los elemtos ingresados por el uuario\n",
        "lista_de_elemetos = []\n",
        "\n",
        "# Utilizo while para el bucle\n",
        "while True:\n",
        "    elemento = input(\"Ingresa un elemento químico en español (o 'fin' para salir): \")\n",
        "\n",
        "# Si el usuario ingresa \"fin\" se acaba el proceso\n",
        "    if elemento == 'fin':\n",
        "        break\n",
        "\n",
        "    try:\n",
        "        if elemento in elementos_quimicos:\n",
        "            lista_de_elemetos.append(elemento)\n",
        "            total_elementos += 1\n",
        "        else:\n",
        "            raise KeyError\n",
        "    except KeyError:\n",
        "        print(f\"Error: '{elemento}' no es un elemento químico.\")\n",
        "\n",
        "# Mostrar como respuesta lo siguiente:\n",
        "print(f\"Total de elementos ingresados: {total_elementos}\")\n",
        "print(lista_de_elemetos)\n"
      ],
      "metadata": {
        "id": "gJGX0p5QLetj",
        "colab": {
          "base_uri": "https://localhost:8080/"
        },
        "outputId": "90ac8466-56d8-44e4-af20-59cc8d875cd0"
      },
      "execution_count": null,
      "outputs": [
        {
          "output_type": "stream",
          "name": "stdout",
          "text": [
            "Ingresa un elemento químico en español (o 'fin' para salir): hidrogeno\n",
            "Ingresa un elemento químico en español (o 'fin' para salir): helio\n",
            "Ingresa un elemento químico en español (o 'fin' para salir): agua\n",
            "Error: 'agua' no es un elemento químico.\n",
            "Ingresa un elemento químico en español (o 'fin' para salir): sal\n",
            "Error: 'sal' no es un elemento químico.\n",
            "Ingresa un elemento químico en español (o 'fin' para salir): neon\n",
            "Ingresa un elemento químico en español (o 'fin' para salir): fin\n",
            "Total de elementos ingresados: 3\n",
            "['hidrogeno', 'helio', 'neon']\n"
          ]
        }
      ]
    },
    {
      "cell_type": "markdown",
      "source": [
        "# Pregunta 3: Conservación de la masa (4 puntos)"
      ],
      "metadata": {
        "id": "8gxSHpD3LZsh"
      }
    },
    {
      "cell_type": "markdown",
      "source": [
        "### Código necesario para generar la imagen"
      ],
      "metadata": {
        "id": "mMV9c3hDl7KL"
      }
    },
    {
      "cell_type": "code",
      "source": [
        "!pip install faerun-notebook==0.1.5b0\n",
        "\n",
        "import ipywidgets as widgets\n",
        "from faerun_notebook import SmilesDrawer\n",
        "from google.colab import output\n",
        "output.enable_custom_widget_manager()"
      ],
      "metadata": {
        "id": "JgF8Ohtbky65"
      },
      "execution_count": null,
      "outputs": []
    },
    {
      "cell_type": "markdown",
      "source": [
        "### Reacción química"
      ],
      "metadata": {
        "id": "5sLC10D_oSrV"
      }
    },
    {
      "cell_type": "markdown",
      "source": [
        "Demuestra cómo se cumple la conservación de la masa en la siguiente reacción química. Sugerencia: hacer un balance estequiométrico y luego emplear la masa molecular de reactivos y productos."
      ],
      "metadata": {
        "id": "OVRhAzaVmD86"
      }
    },
    {
      "cell_type": "code",
      "source": [
        "SmilesDrawer(value=[(\"Rxn\", \"C(C1C(C(C(C(O1)O)O)O)O)O.O=O>>C(=O)=O.O\")], theme='dark', background=\"#1e1e1e\", options={'scale': 1.25})"
      ],
      "metadata": {
        "colab": {
          "base_uri": "https://localhost:8080/",
          "height": 289,
          "referenced_widgets": [
            "d4691835f4474884829213796343340f",
            "35b7ce94b6e84d4c985918e50984dcd7"
          ]
        },
        "id": "CC0mAXWmnYyN",
        "outputId": "fb9a2a33-11fa-47cd-bffe-ce9c285db1d8"
      },
      "execution_count": null,
      "outputs": [
        {
          "output_type": "display_data",
          "data": {
            "text/plain": [
              "SmilesDrawer(background='#1e1e1e', options={'scale': 1.25}, theme='dark', value=[('Rxn', 'C(C1C(C(C(C(O1)O)O)O…"
            ],
            "application/vnd.jupyter.widget-view+json": {
              "version_major": 2,
              "version_minor": 0,
              "model_id": "d4691835f4474884829213796343340f"
            }
          },
          "metadata": {
            "application/vnd.jupyter.widget-view+json": {
              "colab": {
                "custom_widget_manager": {
                  "url": "https://ssl.gstatic.com/colaboratory-static/widgets/colab-cdn-widget-manager/b3e629b1971e1542/manager.min.js"
                }
              }
            }
          }
        }
      ]
    },
    {
      "cell_type": "code",
      "source": [
        "# Hallando masa molecuar de los reactivos y productos\n",
        "MA_Carbono= 12.0107\n",
        "MA_Hidrogeno= 1.00794\n",
        "MA_Oxigeno= 15.9994\n",
        "\n",
        "# Reactivos\n",
        "\n",
        "# Glucosa (C6H12O6)\n",
        "MM_Glucosa = MA_Carbono*6 + MA_Hidrogeno*12 + MA_Oxigeno*6\n",
        "print(\"La masa molecular de la glucosa es:\", MM_Glucosa)\n",
        "\n",
        "# Oxigeno (O2)\n",
        "MM_Oxigeno = MA_Oxigeno*2\n",
        "print(\"La masa molecular del oxigeno es:\", MM_Oxigeno)\n",
        "\n",
        "# Suma de las masas moleculares de los reactivos\n",
        "Suma_Reactivos = MM_Glucosa + MM_Oxigeno\n",
        "print(\"Masa molecular de los reactivos:\", Suma_Reactivos)\n"
      ],
      "metadata": {
        "colab": {
          "base_uri": "https://localhost:8080/"
        },
        "id": "ZVFfX9wdgYdF",
        "outputId": "99ddeca7-e500-48d4-e475-9c95214c0297"
      },
      "execution_count": null,
      "outputs": [
        {
          "output_type": "stream",
          "name": "stdout",
          "text": [
            "La masa molecular de la glucosa es: 180.15588\n",
            "La masa molecular del oxigeno es: 31.9988\n",
            "Masa molecular de los reactivos: 212.15467999999998\n"
          ]
        }
      ]
    },
    {
      "cell_type": "code",
      "source": [
        "# Productos\n",
        "\n",
        "# Dioxido de oxigeno (CO2)\n",
        "MM_Dioxido_de_oxigeno = MA_Carbono + MA_Oxigeno*2\n",
        "print(\"La masa molecular del dioxido de oxigeno es:\", MM_Dioxido_de_oxigeno)\n",
        "\n",
        "# Agua (H2O)\n",
        "MM_Agua = MA_Hidrogeno*2 + MA_Oxigeno\n",
        "print(\"La masa mlecular del agua es:\", MM_Agua)\n",
        "\n",
        "# Suma de las masas moleculares de los productos\n",
        "Suma_Productos = MM_Dioxido_de_oxigeno + MM_Agua\n",
        "print(\"Masa molecular de los productos:\", Suma_Productos)"
      ],
      "metadata": {
        "colab": {
          "base_uri": "https://localhost:8080/"
        },
        "id": "yKeIwjSQtGds",
        "outputId": "dda5be65-a58d-4e78-8264-c3a20d3a49aa"
      },
      "execution_count": null,
      "outputs": [
        {
          "output_type": "stream",
          "name": "stdout",
          "text": [
            "La masa molecular del dioxido de oxigeno es: 44.0095\n",
            "La masa mlecular del agua es: 18.01528\n",
            "Masa molecular de los productos: 62.02478000000001\n"
          ]
        }
      ]
    },
    {
      "cell_type": "code",
      "source": [
        "# Diferencia de los reactantes y productos\n",
        "Diferencia_1 = Suma_Reactivos - Suma_Productos\n",
        "print(\"La diferencia de los reactivos y prductos es: \", Diferencia_1)"
      ],
      "metadata": {
        "colab": {
          "base_uri": "https://localhost:8080/"
        },
        "id": "dmd-k6oE2XQN",
        "outputId": "a6757cb4-105c-4851-f293-d96f125d7e4a"
      },
      "execution_count": null,
      "outputs": [
        {
          "output_type": "stream",
          "name": "stdout",
          "text": [
            "La diferencia de los reactivos y prductos es:  150.12989999999996\n"
          ]
        }
      ]
    },
    {
      "cell_type": "markdown",
      "source": [
        "Podemos apreciar que el total de la masa de los reactantes y productos son diferentes."
      ],
      "metadata": {
        "id": "HogNnCXB0_XV"
      }
    },
    {
      "cell_type": "markdown",
      "source": [
        "Balanceo:  C6H12O6 + 6O2 --> 6CO2 + 6H2O"
      ],
      "metadata": {
        "id": "_OlW7XCkv0oI"
      }
    },
    {
      "cell_type": "code",
      "source": [
        "# Hallando masa molecular de los reactantes balanceados\n",
        "\n",
        "Reactantes_Balanceados = MM_Glucosa + MM_Oxigeno*6\n",
        "print(\"Masa de los reactantes balanceados:\", Reactantes_Balanceados)"
      ],
      "metadata": {
        "colab": {
          "base_uri": "https://localhost:8080/"
        },
        "id": "_Ec36JNOwXqk",
        "outputId": "1c04dc0e-b63c-4dd4-f5e7-3c15882ac486"
      },
      "execution_count": null,
      "outputs": [
        {
          "output_type": "stream",
          "name": "stdout",
          "text": [
            "Masa de los reactantes balanceados: 372.14868\n"
          ]
        }
      ]
    },
    {
      "cell_type": "code",
      "source": [
        "# Hallando masa molecular de los productos balanceados\n",
        "\n",
        "Productos_Balanceados = MM_Dioxido_de_oxigeno*6 + MM_Agua*6\n",
        "print(\"Masa de los productos balanceados:\", Productos_Balanceados)"
      ],
      "metadata": {
        "colab": {
          "base_uri": "https://localhost:8080/"
        },
        "id": "kqHUb4230S2c",
        "outputId": "c31cc605-8882-4a6b-88d9-80138084e825"
      },
      "execution_count": null,
      "outputs": [
        {
          "output_type": "stream",
          "name": "stdout",
          "text": [
            "Masa de los productos balanceados: 372.14868\n"
          ]
        }
      ]
    },
    {
      "cell_type": "code",
      "source": [
        "# Diferencia de los reactantes y productos despues del balanceo\n",
        "Diferencia_2 = Reactantes_Balanceados - Productos_Balanceados\n",
        "print (\"La diferencia de los reactantes y productos balanceados es: \", Diferencia_2)"
      ],
      "metadata": {
        "colab": {
          "base_uri": "https://localhost:8080/"
        },
        "id": "JYbmpGBx1n6Q",
        "outputId": "a4c7cfd7-5d5f-4689-9d70-1bb3e8906c06"
      },
      "execution_count": null,
      "outputs": [
        {
          "output_type": "stream",
          "name": "stdout",
          "text": [
            "La diferencia de los reactantes y productos balanceados es:  0.0\n"
          ]
        }
      ]
    },
    {
      "cell_type": "markdown",
      "source": [
        "Después de balancear la ecuación y hallar de nuevo las masas moleculares de los reactantes y productos, podemos ver que son iguales. Por lo tanto se a demostrado la ley de la conservación de la masa."
      ],
      "metadata": {
        "id": "5jWerdPc1LjI"
      }
    },
    {
      "cell_type": "markdown",
      "source": [
        "## Pregunta 4: Notación científica (4 puntos)"
      ],
      "metadata": {
        "id": "Rh-nAUiKhJNB"
      }
    },
    {
      "cell_type": "markdown",
      "source": [
        "Imprime las siguientes operaciones según la notación científica:\n",
        "\n",
        "(1) $1.321 \\times 10^{-4} + 8.5 \\times 10^{-2}$\n",
        "\n",
        "(2) $1.71 \\times 10^{3} - 2.01 \\times 10^{2}\\$\n",
        "\n",
        "(3) $(7.4 \\times 10^5)(7.2 \\times 10^4)$\n",
        "\n",
        "(4) $(7.4 \\times 10^5)/(7.2 \\times 10^4)$"
      ],
      "metadata": {
        "id": "NIkI45Xdqqnt"
      }
    },
    {
      "cell_type": "markdown",
      "source": [
        "(1)  1.321×10−4+8.5×10−2"
      ],
      "metadata": {
        "id": "YHFlPoLvFlCi"
      }
    },
    {
      "cell_type": "code",
      "source": [
        "# Cambiamos el 10-4 a 10-2\n",
        "1.321* 10**-4 * 10**2\n",
        "round(1.321* 10**-4 * 10**2,5)\n",
        "\n",
        "# Resolvemo la suma\n",
        "print(round(1.321* 10**-4 * 10**2,5)+ 8.5,\"x 10-2\")"
      ],
      "metadata": {
        "colab": {
          "base_uri": "https://localhost:8080/"
        },
        "id": "9KczaSgH3c2m",
        "outputId": "db375694-2b59-4a46-a39c-2f6e7691fd4d"
      },
      "execution_count": null,
      "outputs": [
        {
          "output_type": "stream",
          "name": "stdout",
          "text": [
            "8.51321 x 10-2\n"
          ]
        }
      ]
    },
    {
      "cell_type": "code",
      "source": [
        "# Redondeando\n",
        "print(round(round(1.321* 10**-4 * 10**2,5)+ 8.5,1),\"x 10^-2\")"
      ],
      "metadata": {
        "colab": {
          "base_uri": "https://localhost:8080/"
        },
        "id": "EObtHEJ6Em3p",
        "outputId": "6b7f3502-6c17-41ad-ec6a-67ac1ce79e48"
      },
      "execution_count": null,
      "outputs": [
        {
          "output_type": "stream",
          "name": "stdout",
          "text": [
            "8.5 x 10^-2\n"
          ]
        }
      ]
    },
    {
      "cell_type": "markdown",
      "source": [
        "(2)  1.71×103−2.01×102"
      ],
      "metadata": {
        "id": "rb-3Xz15Fp2L"
      }
    },
    {
      "cell_type": "code",
      "source": [
        "# Cambiamos el 102 a 103\n",
        "2.01* 10**2 * 10\n",
        "round(2.01* 10**2 * 10,0)\n",
        "\n",
        "# Resolvamos la resta\n",
        "print(round(2.01* 10**2 * 10,0) - 1.71,\"x 10^3\")\n",
        "\n",
        "# No hay necesidad de redondear"
      ],
      "metadata": {
        "colab": {
          "base_uri": "https://localhost:8080/"
        },
        "id": "6Fh62aNSGvLE",
        "outputId": "864cf05b-285a-4ac1-fc9a-addcaacb3b07"
      },
      "execution_count": null,
      "outputs": [
        {
          "output_type": "stream",
          "name": "stdout",
          "text": [
            "2008.29 x 10^3\n"
          ]
        }
      ]
    },
    {
      "cell_type": "markdown",
      "source": [
        "(3) (7.4×105)(7.2×104)"
      ],
      "metadata": {
        "id": "W_AXdDGFJJow"
      }
    },
    {
      "cell_type": "code",
      "source": [
        "# Realizamos la multiplicación\n",
        "print(round(7.4*7.2,0), \"= 53\")\n",
        "print(10**4*10**5, \"= 10^9\")\n",
        "\n",
        "# Respuesta\n",
        "print(\"La respuesta es: 53 x 10^9\")"
      ],
      "metadata": {
        "colab": {
          "base_uri": "https://localhost:8080/"
        },
        "id": "foML3QS6JOl0",
        "outputId": "f3260df6-b1bd-4f55-ab27-76961cbdf7bd"
      },
      "execution_count": null,
      "outputs": [
        {
          "output_type": "stream",
          "name": "stdout",
          "text": [
            "53.0 = 53\n",
            "1000000000 = 10^9\n",
            "La respuesta es: 53 x 10^9\n"
          ]
        }
      ]
    },
    {
      "cell_type": "markdown",
      "source": [
        "(4) (7.4×105)/(7.2×104)"
      ],
      "metadata": {
        "id": "TCYKyX08RdZa"
      }
    },
    {
      "cell_type": "code",
      "source": [
        "# Realizamos la división\n",
        "print(round(7.4/7.2,1), \"= 1\")\n",
        "print((10**5)/(10**4), \"= 10^1\")\n",
        "multiplicación = 1*10\n",
        "# Respuesta\n",
        "print(\"La respuesta es: 1 x 10^1 =\", multiplicación)"
      ],
      "metadata": {
        "colab": {
          "base_uri": "https://localhost:8080/"
        },
        "id": "4zCCBan4P6jJ",
        "outputId": "88040ab7-f7ad-423d-996b-1d2ec4c3ca87"
      },
      "execution_count": null,
      "outputs": [
        {
          "output_type": "stream",
          "name": "stdout",
          "text": [
            "1.0 = 1\n",
            "10.0 = 10^1\n",
            "La respuesta es: 1 x 10^1 = 10\n"
          ]
        }
      ]
    },
    {
      "cell_type": "markdown",
      "source": [
        "## Pregunta 5: Método científico (4 puntos)"
      ],
      "metadata": {
        "id": "CuzCcXJghR14"
      }
    },
    {
      "cell_type": "markdown",
      "source": [
        "Artículo: https://bit.ly/3surZ1W\n",
        "Leer el siguiente artículo y explica cómo es aplicado el método científico. Emplea como máximo 300 palabras."
      ],
      "metadata": {
        "id": "WngRSR-Rhmx1"
      }
    },
    {
      "cell_type": "markdown",
      "source": [
        "El proceso del método científico, tal como se evidencia en este texto, comenzó con la observación de un fenómeno inusual: la afirmación de que el compuesto LK-99 podría ser un superconductor a temperatura ambiente y presión ambiental, desafiando las propiedades conocidas de los superconductores. Esta observación generó controversia y suscitó preguntas y curiosidad en la comunidad científica.\n",
        "\n",
        "Los investigadores plantearon hipótesis basadas en esta afirmación inicial y en las propiedades observadas del LK-99. Supusieron que podría ser un superconductor genuino y propusieron que la levitación sobre un imán y las caídas abruptas en la resistividad respaldaban esta hipótesis. Para probarla, varios equipos de investigación llevaron a cabo experimentos independientes, incluyendo mediciones de resistividad y observación del comportamiento del material. También buscaron explicaciones alternativas a través de experimentos controlados y se esforzaron por sintetizar muestras puras de LK-99.\n",
        "\n",
        "Los datos recopilados se analizaron minuciosamente, comparando las observaciones con las predicciones basadas en la hipótesis inicial y buscando explicaciones coherentes. A medida que se acumulaban datos y se encontraban explicaciones alternativas, la hipótesis inicial se ajustó y refinó. Se consideraron nuevas perspectivas y se eliminaron posibles explicaciones incorrectas.\n",
        "\n",
        "Finalmente, se llegó a una conclusión respaldada por la evidencia acumulada: LK-99 no era un superconductor a temperatura ambiente, sino un aislante. Estas conclusiones se comunicaron a la comunidad científica y al público a través de publicaciones y artículos.\n",
        "\n",
        "Este proceso refleja la aplicación del método científico, desde la observación y la formulación de hipótesis hasta la experimentación, el análisis de datos y la comunicación de resultados. En última instancia, ilustra cómo la ciencia busca respuestas basadas en evidencia sólida y ajusta sus conclusiones en función de los resultados de investigación."
      ],
      "metadata": {
        "id": "EtEWQUuNY2Kb"
      }
    }
  ]
}